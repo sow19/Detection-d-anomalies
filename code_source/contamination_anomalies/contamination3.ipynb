{
 "cells": [
  {
   "cell_type": "code",
   "execution_count": 26,
   "id": "266d3a5a-9b07-4c5a-bb3f-17ef3e98d6d4",
   "metadata": {},
   "outputs": [],
   "source": [
    "import pandas as pd\n",
    "import random\n",
    "import re"
   ]
  },
  {
   "cell_type": "code",
   "execution_count": 34,
   "id": "9cfafcb2-eb37-4291-8928-eeba39726ce8",
   "metadata": {},
   "outputs": [],
   "source": [
    "def contaminate_text(text):\n",
    "    \"\"\"\n",
    "    Applique toutes les contaminations au texte médical.\n",
    "    \"\"\"\n",
    "    text = incoherence_diagnostic(text)  # Ajoute une incohérence diagnostique\n",
    "    text = contradiction_interne(text)   # Ajoute des contradictions internes\n",
    "    text = terminologie_erronee(text)    # Remplace des termes médicaux par des termes erronés\n",
    "    text = ajout_valeurs_anormales(text) # Ajoute des valeurs médicales anormales\n",
    "    text = suppression_information(text) # Supprime certaines informations du texte\n",
    "    return text\n"
   ]
  },
  {
   "cell_type": "code",
   "execution_count": 35,
   "id": "95b1ca40-082d-4a12-b0cc-4dc7ac3e0b5a",
   "metadata": {},
   "outputs": [],
   "source": [
    "def incoherence_diagnostic(text):\n",
    "    \"\"\"\n",
    "    Ajoute une incohérence diagnostique plus subtile et complexe.\n",
    "    \"\"\"\n",
    "    contradictions = [\n",
    "        \"Despite the clear symptoms of cardiomegaly, no enlargement of the heart is noted in the imaging results.\",\n",
    "        \"The patient has a normal ejection fraction, but the clinical examination indicates severe heart failure.\",\n",
    "        \"CT scan indicates consolidation in the right lung, but the patient is asymptomatic.\",\n",
    "        \"Although no acute findings are visible, the patient shows signs of acute pulmonary edema based on history.\",\n",
    "        \"The chest x-ray shows bilateral pleural effusion, but auscultation reveals no signs of respiratory distress.\"\n",
    "    ]\n",
    "    # Ajout d'une incohérence subtile en fonction de l'analyse sémantique du texte\n",
    "    text += \" \" + random.choice(contradictions)\n",
    "    return text\n"
   ]
  },
  {
   "cell_type": "code",
   "execution_count": 36,
   "id": "ce34e7f2-85e4-4bd4-845e-3e2d01c4d894",
   "metadata": {},
   "outputs": [],
   "source": [
    "def contradiction_interne(text):\n",
    "    \"\"\"\n",
    "    Ajoute une contradiction dans l'interprétation du texte de manière plus subtile.\n",
    "    \"\"\"\n",
    "    patterns = {\n",
    "        r\"\\bclear\\b\": \"Despite clear lungs, ground-glass opacities are visible in both lower lobes.\",\n",
    "        r\"\\bno effusion\\b\": \"Bilateral pleural effusions noted, despite reports stating no effusion.\",\n",
    "        r\"\\bnormal heart\\b\": \"Heart size appears normal, yet the patient has severe cardiomegaly based on echocardiogram.\",\n",
    "        r\"\\bno consolidation\\b\": \"The report suggests no consolidation, but significant patchy areas are visible on imaging.\",\n",
    "        r\"\\blungs are unremarkable\\b\": \"Although the lungs appear unremarkable, subtle signs of fibrosis are detectable.\"\n",
    "    }\n",
    "    \n",
    "    for pattern, contradiction in patterns.items():\n",
    "        if re.search(pattern, text, re.IGNORECASE):\n",
    "            # Placer la contradiction en un endroit du texte plus réaliste\n",
    "            sentence_end = text.rfind(\".\")\n",
    "            text = text[:sentence_end] + \" \" + contradiction + text[sentence_end:]\n",
    "            return text\n",
    "    return text\n"
   ]
  },
  {
   "cell_type": "code",
   "execution_count": 37,
   "id": "5af71255-a62d-43b1-a880-130ae48be7c3",
   "metadata": {},
   "outputs": [],
   "source": [
    "def terminologie_erronee(text):\n",
    "    \"\"\"\n",
    "    Remplace des termes médicaux corrects par des termes incorrects de manière subtile.\n",
    "    \"\"\"\n",
    "    replacements = {\n",
    "        \"pneumothorax\": \"pneumoventis\",\n",
    "        \"pleural effusion\": \"pleural inflation\",\n",
    "        \"cardiomegaly\": \"cardiodilation\",\n",
    "        \"consolidation\": \"consolidation tissue\",\n",
    "        \"aorta\": \"cardiac aorta\",\n",
    "        \"mediastinum\": \"mediocentrical space\",\n",
    "        \"atelectasis\": \"pulmo-collapse\",\n",
    "        \"granuloma\": \"granitoma\",\n",
    "        \"vascularity\": \"vascular texture\",\n",
    "        \"pulmonary edema\": \"lung wetness\",\n",
    "        \"bronchiectasis\": \"bronchidilation\",\n",
    "        \"fibrosis\": \"fibrotic congestion\",\n",
    "        \"calcification\": \"calcium overload\",\n",
    "        \"nodule\": \"nodal swelling\",\n",
    "        \"opacity\": \"shadow mass\",\n",
    "        \"infiltration\": \"infiltrative process\",\n",
    "        \"embolism\": \"embolic trapping\",\n",
    "        \"hemothorax\": \"hemopleural collection\",\n",
    "        \"tracheal deviation\": \"windpipe shift\",\n",
    "        \"hyperinflation\": \"overexpansion\",\n",
    "        \"interstitial lung disease\": \"interstitium degradation\",\n",
    "        \"pulmonary hypertension\": \"lung blood pressure disorder\"\n",
    "    }\n",
    "    # On applique maintenant les remplacements de manière subtile et systématique\n",
    "    pattern = re.compile(r'\\b(' + '|'.join(replacements.keys()) + r')\\b', re.IGNORECASE)\n",
    "\n",
    "    def replace_match(match):\n",
    "        term = match.group(0)\n",
    "        # Applique une variante subtile du terme médical\n",
    "        return replacements.get(term.lower(), term)\n",
    "\n",
    "    return pattern.sub(replace_match, text)\n"
   ]
  },
  {
   "cell_type": "code",
   "execution_count": 38,
   "id": "4f82afcb-0f18-49ec-abe7-6e4610260916",
   "metadata": {},
   "outputs": [],
   "source": [
    "def ajout_valeurs_anormales(text):\n",
    "    \"\"\"\n",
    "    Ajoute des valeurs médicales anormales de manière plus contextuelle.\n",
    "    \"\"\"\n",
    "    abnormal_values = [\n",
    "        \"Ejection fraction of 12%, despite a normal echocardiogram.\",\n",
    "        \"O2 saturation at 65%, although the patient is not in distress.\",\n",
    "        \"Tracheal deviation of 3.5 cm, despite no signs of airway obstruction.\",\n",
    "        \"Blood pressure recorded at 220/130 mmHg, with no apparent hypertensive symptoms.\",\n",
    "        \"Heart rate at 35 bpm, in a patient with no underlying cardiovascular conditions.\",\n",
    "        \"Temperature of 42°C, despite being on antipyretic therapy.\",\n",
    "        \"Blood glucose level of 450 mg/dL, despite no history of diabetes.\"\n",
    "    ]\n",
    "    # Ajout d'une valeur anormale réaliste mais incongrue\n",
    "    return text + \" \" + random.choice(abnormal_values)\n"
   ]
  },
  {
   "cell_type": "code",
   "execution_count": 39,
   "id": "07aed4d1-73af-40e7-a1d1-cd17e7c4a1c9",
   "metadata": {},
   "outputs": [],
   "source": [
    "def suppression_information(text):\n",
    "    \"\"\"\n",
    "    Supprime ou modifie de manière plus subtile une partie du texte.\n",
    "    \"\"\"\n",
    "    sentences = text.split('.')\n",
    "    sentences = [s.strip() for s in sentences if s.strip()]  # Nettoyer la liste\n",
    "    if len(sentences) > 1:\n",
    "        # Supprimer ou remplacer une phrase cruciale\n",
    "        index_to_remove = random.randint(0, len(sentences) - 1)\n",
    "        if random.choice([True, False]):\n",
    "            sentences[index_to_remove] = \"Missing clinical information.\"\n",
    "        else:\n",
    "            del sentences[index_to_remove]\n",
    "    return '. '.join(sentences) + '.'\n"
   ]
  },
  {
   "cell_type": "code",
   "execution_count": 40,
   "id": "50680804-a5fe-4c78-b9a5-425476fb42d5",
   "metadata": {},
   "outputs": [],
   "source": [
    "def contaminate_dataframe(df, contamination_rate=0.1):\n",
    "    \"\"\"\n",
    "    Applique des contaminations sur un pourcentage du dataset.\n",
    "    \"\"\"\n",
    "    df = df.copy()\n",
    "    # Vérifier la présence de la colonne nécessaire\n",
    "    if 'combined_text' not in df.columns:\n",
    "        raise ValueError(\"La colonne 'combined_text' doit être présente dans le DataFrame.\")\n",
    "\n",
    "    # Sélectionner les indices à contaminer\n",
    "    indices_to_contaminate = random.sample(range(len(df)), int(len(df) * contamination_rate))\n",
    "    \n",
    "    # Appliquer la contamination\n",
    "    df.loc[indices_to_contaminate, 'combined_text'] = df.loc[indices_to_contaminate, 'combined_text'].apply(contaminate_text)\n",
    "    \n",
    "    return df"
   ]
  },
  {
   "cell_type": "code",
   "execution_count": 41,
   "id": "9c0581f1-bdd8-4cef-a4c9-8c7c22cc05f8",
   "metadata": {},
   "outputs": [],
   "source": [
    "file_path = \"../../data/cleaned/final_clean_data1.csv\"\n",
    "df = pd.read_csv(file_path)\n",
    "\n",
    "# Appliquer la contamination\n",
    "df_contaminated = contaminate_dataframe(df, contamination_rate=0.1)\n",
    "\n",
    "# Sauvegarder le nouveau dataset\n",
    "df_contaminated.to_csv(\"../../data/contaminated/data_contaminated3.csv\", index=False)"
   ]
  },
  {
   "cell_type": "code",
   "execution_count": 42,
   "id": "ca0b2dbd-ff8e-4fb6-a268-177deaa61690",
   "metadata": {},
   "outputs": [
    {
     "data": {
      "text/plain": [
       "<bound method NDFrame.head of                                           combined_text\n",
       "0     cardiac silhouette mediastinum size within nor...\n",
       "1     cardiomediastinal silhouette within normal lim...\n",
       "2     lung clear epanded heart mediastinum normal ac...\n",
       "3     increased_opacity within right_upper_lobe poss...\n",
       "4     interstitial marking diffusely prominent throu...\n",
       "...                                                 ...\n",
       "3414  lung clear cardiomediastinal silhouette within...\n",
       "3415  sternotomy suture bypass graft placed interval...\n",
       "3416  calcified mediastinal focal area consolidation...\n",
       "3417  Temperature of 42°C, despite being on antipyre...\n",
       "3418  lung clear bilaterally focal consolidation ple...\n",
       "\n",
       "[3419 rows x 1 columns]>"
      ]
     },
     "execution_count": 42,
     "metadata": {},
     "output_type": "execute_result"
    }
   ],
   "source": [
    "df_contaminated.head"
   ]
  },
  {
   "cell_type": "code",
   "execution_count": null,
   "id": "9d05b9ac-a229-4abf-bfc2-984d12e1dcbc",
   "metadata": {},
   "outputs": [],
   "source": []
  },
  {
   "cell_type": "code",
   "execution_count": null,
   "id": "60eaf56c-e82a-4d64-8538-a213a80e3df3",
   "metadata": {},
   "outputs": [],
   "source": []
  },
  {
   "cell_type": "code",
   "execution_count": null,
   "id": "abd0b074-5b97-45e8-b1fc-cdad1bcc56b7",
   "metadata": {},
   "outputs": [],
   "source": []
  },
  {
   "cell_type": "code",
   "execution_count": null,
   "id": "7fd7df57-1f34-4128-99b7-0367b2c664ba",
   "metadata": {},
   "outputs": [],
   "source": []
  },
  {
   "cell_type": "code",
   "execution_count": null,
   "id": "e9ccf0d0-49b6-4fc3-b160-6f6768aa58ca",
   "metadata": {},
   "outputs": [],
   "source": []
  }
 ],
 "metadata": {
  "kernelspec": {
   "display_name": "Python 3 (ipykernel)",
   "language": "python",
   "name": "python3"
  },
  "language_info": {
   "codemirror_mode": {
    "name": "ipython",
    "version": 3
   },
   "file_extension": ".py",
   "mimetype": "text/x-python",
   "name": "python",
   "nbconvert_exporter": "python",
   "pygments_lexer": "ipython3",
   "version": "3.10.12"
  }
 },
 "nbformat": 4,
 "nbformat_minor": 5
}
