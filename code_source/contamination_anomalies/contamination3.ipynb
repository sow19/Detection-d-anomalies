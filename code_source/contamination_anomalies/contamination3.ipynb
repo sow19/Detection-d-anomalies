{
 "cells": [
  {
   "cell_type": "code",
   "execution_count": 2,
   "id": "266d3a5a-9b07-4c5a-bb3f-17ef3e98d6d4",
   "metadata": {},
   "outputs": [],
   "source": [
    "import pandas as pd\n",
    "import random\n",
    "import re"
   ]
  },
  {
   "cell_type": "code",
   "execution_count": 3,
   "id": "9cfafcb2-eb37-4291-8928-eeba39726ce8",
   "metadata": {},
   "outputs": [],
   "source": [
    "def contaminate_text(text):\n",
    "    \"\"\"\n",
    "    Applique une contamination aléatoire au texte médical.\n",
    "    \"\"\"\n",
    "    contamination_functions = [\n",
    "        incoherence_diagnostic, contradiction_interne,\n",
    "        terminologie_erronee, ajout_valeurs_anormales,\n",
    "        suppression_information]\n",
    "    func = random.choice(contamination_functions)\n",
    "    return func(text)"
   ]
  },
  {
   "cell_type": "code",
   "execution_count": 4,
   "id": "95b1ca40-082d-4a12-b0cc-4dc7ac3e0b5a",
   "metadata": {},
   "outputs": [],
   "source": [
    "def incoherence_diagnostic(text):\n",
    "    \"\"\"\n",
    "    Ajoute une incohérence diagnostique évidente.\n",
    "    \"\"\"\n",
    "    contradictions = [\n",
    "        \"No acute findings despite visible abnormalities.\",\n",
    "        \"Clear lungs, yet multiple infiltrates noted.\",\n",
    "        \"No cardiomegaly, but heart appears enlarged.\"]\n",
    "    return text + \" \" + random.choice(contradictions)"
   ]
  },
  {
   "cell_type": "code",
   "execution_count": 5,
   "id": "ce34e7f2-85e4-4bd4-845e-3e2d01c4d894",
   "metadata": {},
   "outputs": [],
   "source": [
    "def contradiction_interne(text):\n",
    "    \"\"\"\n",
    "    Ajoute une contradiction dans l'interprétation du texte.\n",
    "    \"\"\"\n",
    "    patterns = {\n",
    "        r\"\\bclear\\b\": \"Multiple opacities are present.\",\n",
    "        r\"\\bno effusion\\b\": \"Bilateral pleural effusions detected.\",\n",
    "        r\"\\bnormal heart\\b\": \"Cardiomegaly observed.\",\n",
    "        r\"\\bno consolidation\\b\": \"Patchy consolidation evident in lower lobes.\",\n",
    "        r\"\\blungs are unremarkable\\b\": \"Diffuse ground-glass opacities detected.\"\n",
    "    }\n",
    "    for pattern, contradiction in patterns.items():\n",
    "        if re.search(pattern, text, re.IGNORECASE):\n",
    "            return text + \" \" + contradiction\n",
    "    return text"
   ]
  },
  {
   "cell_type": "code",
   "execution_count": 6,
   "id": "5af71255-a62d-43b1-a880-130ae48be7c3",
   "metadata": {},
   "outputs": [],
   "source": [
    "def terminologie_erronee(text):\n",
    "    \"\"\"\n",
    "    Remplace des termes médicaux corrects par des termes incorrects.\n",
    "    \"\"\"\n",
    "    replacements = {\n",
    "        \"pneumothorax\": \"pneumoventis\",\n",
    "        \"pleural effusion\": \"pleural inflation\",\n",
    "        \"cardiomegaly\": \"cardiodilation\",\n",
    "        \"consolidation\": \"densification\",\n",
    "        \"aorta\": \"cardiac tube\",\n",
    "        \"mediastinum\": \"mediocenter\",\n",
    "        \"atelectasis\": \"pulmo-collapse\",\n",
    "        \"granuloma\": \"granitoma\",\n",
    "        \"vascularity\": \"blood-vessel-density\",\n",
    "        \"pulmonary edema\": \"lung wetness\",\n",
    "        \"bronchiectasis\": \"bronchidilation\",\n",
    "        \"fibrosis\": \"fibrotic congestion\",\n",
    "        \"calcification\": \"calcium overload\",\n",
    "        \"nodule\": \"nodal swelling\",\n",
    "        \"opacity\": \"shadow mass\",\n",
    "        \"infiltration\": \"infiltrative process\",\n",
    "        \"embolism\": \"embolic trapping\",\n",
    "        \"hemothorax\": \"hemopleural collection\",\n",
    "        \"tracheal deviation\": \"windpipe shift\",\n",
    "        \"hyperinflation\": \"overexpansion\",\n",
    "        \"interstitial lung disease\": \"interstitium degradation\",\n",
    "        \"pulmonary hypertension\": \"lung blood pressure disorder\"\n",
    "    } \n",
    "    pattern = re.compile(r'\\b(' + '|'.join(replacements.keys()) + r')\\b', re.IGNORECASE)\n",
    "\n",
    "    def replace_match(match):\n",
    "        term = match.group(0)\n",
    "        return replacements.get(term.lower(), term)\n",
    "\n",
    "    return pattern.sub(replace_match, text)"
   ]
  },
  {
   "cell_type": "code",
   "execution_count": 7,
   "id": "4f82afcb-0f18-49ec-abe7-6e4610260916",
   "metadata": {},
   "outputs": [],
   "source": [
    "def ajout_valeurs_anormales(text):\n",
    "    \"\"\"\n",
    "    Ajoute des valeurs médicales anormales dans le texte.\n",
    "    \"\"\"\n",
    "    abnormal_values = [\n",
    "        \"Ejection fraction of 12%.\",\n",
    "        \"O2 saturation at 65%.\",\n",
    "        \"Tracheal deviation of 3.5 cm.\",\n",
    "        \"Blood pressure recorded at 220/130 mmHg.\",\n",
    "        \"Heart rate at 35 bpm.\",\n",
    "        \"Temperature of 42°C.\",\n",
    "        \"Blood glucose level of 450 mg/dL.\"\n",
    "    ]\n",
    "    return text + \" \" + random.choice(abnormal_values)"
   ]
  },
  {
   "cell_type": "code",
   "execution_count": 8,
   "id": "07aed4d1-73af-40e7-a1d1-cd17e7c4a1c9",
   "metadata": {},
   "outputs": [],
   "source": [
    "def suppression_information(text):\n",
    "    \"\"\"\n",
    "    Supprime aléatoirement une phrase du texte.\n",
    "    \"\"\"\n",
    "    sentences = text.split('.')\n",
    "    sentences = [s.strip() for s in sentences if s.strip()]  # Nettoyer la liste\n",
    "    if len(sentences) > 1:\n",
    "        del sentences[random.randint(0, len(sentences) - 1)]\n",
    "    return '. '.join(sentences) + '.'"
   ]
  },
  {
   "cell_type": "code",
   "execution_count": 11,
   "id": "50680804-a5fe-4c78-b9a5-425476fb42d5",
   "metadata": {},
   "outputs": [],
   "source": [
    "def contaminate_dataframe(df, contamination_rate=0.1):\n",
    "    \"\"\"\n",
    "    Applique des contaminations sur un pourcentage du dataset.\n",
    "    \"\"\"\n",
    "    df = df.copy()\n",
    "    # Vérifier la présence de la colonne nécessaire\n",
    "    if 'combined_text' not in df.columns:\n",
    "        raise ValueError(\"La colonne 'combined_text' doit être présente dans le DataFrame.\")\n",
    "\n",
    "    # Sélectionner les indices à contaminer\n",
    "    indices_to_contaminate = random.sample(range(len(df)), int(len(df) * contamination_rate))\n",
    "    \n",
    "    # Appliquer la contamination\n",
    "    df.loc[indices_to_contaminate, 'combined_text'] = df.loc[indices_to_contaminate, 'combined_text'].apply(contaminate_text)\n",
    "    \n",
    "    return df"
   ]
  },
  {
   "cell_type": "code",
   "execution_count": 13,
   "id": "9c0581f1-bdd8-4cef-a4c9-8c7c22cc05f8",
   "metadata": {},
   "outputs": [],
   "source": [
    "file_path = \"../../data/cleaned/final_clean_data1.csv\"\n",
    "df = pd.read_csv(file_path)\n",
    "\n",
    "# Appliquer la contamination\n",
    "df_contaminated = contaminate_dataframe(df, contamination_rate=0.1)\n",
    "\n",
    "# Sauvegarder le nouveau dataset\n",
    "df_contaminated.to_csv(\"../../data/cleaned/data_contaminated3.csv\", index=False)"
   ]
  },
  {
   "cell_type": "code",
   "execution_count": null,
   "id": "ca0b2dbd-ff8e-4fb6-a268-177deaa61690",
   "metadata": {},
   "outputs": [],
   "source": []
  }
 ],
 "metadata": {
  "kernelspec": {
   "display_name": "Python 3 (ipykernel)",
   "language": "python",
   "name": "python3"
  },
  "language_info": {
   "codemirror_mode": {
    "name": "ipython",
    "version": 3
   },
   "file_extension": ".py",
   "mimetype": "text/x-python",
   "name": "python",
   "nbconvert_exporter": "python",
   "pygments_lexer": "ipython3",
   "version": "3.10.12"
  }
 },
 "nbformat": 4,
 "nbformat_minor": 5
}
