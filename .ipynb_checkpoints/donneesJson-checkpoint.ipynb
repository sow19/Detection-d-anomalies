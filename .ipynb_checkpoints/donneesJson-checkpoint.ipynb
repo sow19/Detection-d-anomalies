{
 "cells": [
  {
   "cell_type": "code",
   "execution_count": 6,
   "id": "ece73c4d-c8c4-4a30-977e-6c65aad4f8d6",
   "metadata": {},
   "outputs": [],
   "source": [
    "import pandas as pd\n",
    "import json"
   ]
  },
  {
   "cell_type": "code",
   "execution_count": 32,
   "id": "d04e7c5f-59ee-4ca7-8e2c-d722d53f9f8f",
   "metadata": {},
   "outputs": [
    {
     "name": "stdout",
     "output_type": "stream",
     "text": [
      "                id                                             report  \\\n",
      "0  CXR2384_IM-0942  The heart size and pulmonary vascularity appea...   \n",
      "1  CXR2926_IM-1328  Cardiac and mediastinal contours are within no...   \n",
      "2  CXR1451_IM-0291  Left lower lobe calcified granuloma. Heart siz...   \n",
      "3  CXR2887_IM-1289  The cardiomediastinal silhouette is normal in ...   \n",
      "4  CXR1647_IM-0424  The lungs are clear bilaterally. Specifically,...   \n",
      "5  CXR2434_IM-0976  The heart is normal in size. The mediastinum i...   \n",
      "6  CXR3655_IM-1817  Well circumscribed 11 mm right upper lobe nodu...   \n",
      "7  CXR3299_IM-1575  The cardiac silhouette and mediastinal contour...   \n",
      "8  CXR1419_IM-0267  Cardiac silhouette and pulmonary vascularity a...   \n",
      "9  CXR2867_IM-1274  The trachea is midline. The cardiomediastinal ...   \n",
      "\n",
      "                                       image_path  split  \n",
      "0  [CXR2384_IM-0942/0.png, CXR2384_IM-0942/1.png]  train  \n",
      "1  [CXR2926_IM-1328/0.png, CXR2926_IM-1328/1.png]  train  \n",
      "2  [CXR1451_IM-0291/0.png, CXR1451_IM-0291/1.png]  train  \n",
      "3  [CXR2887_IM-1289/0.png, CXR2887_IM-1289/1.png]  train  \n",
      "4  [CXR1647_IM-0424/0.png, CXR1647_IM-0424/1.png]  train  \n",
      "5  [CXR2434_IM-0976/0.png, CXR2434_IM-0976/1.png]  train  \n",
      "6  [CXR3655_IM-1817/0.png, CXR3655_IM-1817/1.png]  train  \n",
      "7  [CXR3299_IM-1575/0.png, CXR3299_IM-1575/1.png]  train  \n",
      "8  [CXR1419_IM-0267/0.png, CXR1419_IM-0267/1.png]  train  \n",
      "9  [CXR2867_IM-1274/0.png, CXR2867_IM-1274/1.png]  train  \n"
     ]
    }
   ],
   "source": [
    "with open(\"iu_xray/annotation.json\", \"r\", encoding=\"utf-8\") as file:\n",
    "    data = json.load(file)\n",
    "df = pd.DataFrame(data[\"train\"])\n",
    "print(df.head(10))\n",
    "    "
   ]
  },
  {
   "cell_type": "code",
   "execution_count": null,
   "id": "bcfb73d0-9850-440d-b461-7abb14ef9e7a",
   "metadata": {},
   "outputs": [],
   "source": [
    "# Extraire la colonne 'report'\n",
    "reports = [item[\"report\"] for item in data[\"train\"]]\n",
    "df_reports = pd.DataFrame(reports, columns=[\"report\"])\n",
    "\n",
    "print(df_reports.head(10))\n",
    "print(df_reports.info())"
   ]
  },
  {
   "cell_type": "code",
   "execution_count": 26,
   "id": "b23c4461-0784-42ee-83f6-7d5e1a9e3509",
   "metadata": {},
   "outputs": [
    {
     "name": "stdout",
     "output_type": "stream",
     "text": [
      "report    object\n",
      "dtype: object\n"
     ]
    },
    {
     "data": {
      "text/plain": [
       "(2069, 1)"
      ]
     },
     "execution_count": 26,
     "metadata": {},
     "output_type": "execute_result"
    }
   ],
   "source": [
    "# Vérifier les types de données\n",
    "print(df_reports.dtypes)\n",
    "df_reports.shape\n"
   ]
  },
  {
   "cell_type": "code",
   "execution_count": 14,
   "id": "1fb7fdd2-6ea1-4b78-8b79-f1771538bac2",
   "metadata": {},
   "outputs": [
    {
     "name": "stdout",
     "output_type": "stream",
     "text": [
      "Valeurs manquantes:\n",
      "report    0\n",
      "dtype: int64\n"
     ]
    }
   ],
   "source": [
    "# Vérifier les valeurs manquantes\n",
    "missing_values = df_reports.isnull().sum()\n",
    "print(\"Valeurs manquantes:\")\n",
    "print(missing_values)\n"
   ]
  },
  {
   "cell_type": "code",
   "execution_count": 50,
   "id": "f312e056-e98d-4f9a-95a9-a3987e641bbc",
   "metadata": {},
   "outputs": [
    {
     "name": "stdout",
     "output_type": "stream",
     "text": [
      "Nombre de doublons dans les rapports : 341\n",
      "                                                 report  length\n",
      "43    The lungs and pleural spaces show no acute abn...     114\n",
      "51    Heart size normal. Lungs are clear. XXXX are n...     129\n",
      "67    Cardiac and mediastinal contours are within no...     107\n",
      "105   The cardiac contours are normal. The lungs are...      75\n",
      "109   Cardiomediastinal silhouettes are within norma...     164\n",
      "...                                                 ...     ...\n",
      "2035  Lungs are clear bilaterally with no focal infi...     186\n",
      "2037  The XXXX examination consists of frontal and l...     185\n",
      "2045  The heart is normal size. The mediastinum is u...     156\n",
      "2046  The cardiomediastinal silhouette and vasculatu...     199\n",
      "2050  Heart XXXX, mediastinum, XXXX, bony structures...      78\n",
      "\n",
      "[341 rows x 2 columns]\n"
     ]
    }
   ],
   "source": [
    "# Vérifier les doublons\n",
    "duplicates = df_reports.duplicated().sum()\n",
    "print(f\"Nombre de doublons dans les rapports : {duplicates}\")\n",
    "# Afficher les lignes dupliquées\n",
    "print(df_reports[df_reports.duplicated()])\n"
   ]
  },
  {
   "cell_type": "code",
   "execution_count": 39,
   "id": "c9a6b874-7f97-4b6c-8c0f-db9722ef232f",
   "metadata": {},
   "outputs": [
    {
     "data": {
      "text/plain": [
       "<bound method Series.unique of 0       The heart size and pulmonary vascularity appea...\n",
       "1       Cardiac and mediastinal contours are within no...\n",
       "2       Left lower lobe calcified granuloma. Heart siz...\n",
       "3       The cardiomediastinal silhouette is normal in ...\n",
       "4       The lungs are clear bilaterally. Specifically,...\n",
       "                              ...                        \n",
       "2064    The lungs are clear. There is no focal airspac...\n",
       "2065    Heart size is mildly enlarged but stable.. The...\n",
       "2066    The heart is large. Lung volumes are XXXX. XXX...\n",
       "2067    Heart size within normal limits and cardiomedi...\n",
       "2068    Lungs are clear bilaterally. There is no focal...\n",
       "Name: report, Length: 2069, dtype: object>"
      ]
     },
     "execution_count": 39,
     "metadata": {},
     "output_type": "execute_result"
    }
   ],
   "source": [
    "df_reports['report'].unique"
   ]
  },
  {
   "cell_type": "code",
   "execution_count": 47,
   "id": "29910f24-b7bb-4d6a-9be8-a397ab5e961b",
   "metadata": {},
   "outputs": [
    {
     "data": {
      "text/html": [
       "<div>\n",
       "<style scoped>\n",
       "    .dataframe tbody tr th:only-of-type {\n",
       "        vertical-align: middle;\n",
       "    }\n",
       "\n",
       "    .dataframe tbody tr th {\n",
       "        vertical-align: top;\n",
       "    }\n",
       "\n",
       "    .dataframe thead th {\n",
       "        text-align: right;\n",
       "    }\n",
       "</style>\n",
       "<table border=\"1\" class=\"dataframe\">\n",
       "  <thead>\n",
       "    <tr style=\"text-align: right;\">\n",
       "      <th></th>\n",
       "      <th>report</th>\n",
       "    </tr>\n",
       "  </thead>\n",
       "  <tbody>\n",
       "    <tr>\n",
       "      <th>count</th>\n",
       "      <td>2069</td>\n",
       "    </tr>\n",
       "    <tr>\n",
       "      <th>unique</th>\n",
       "      <td>1728</td>\n",
       "    </tr>\n",
       "    <tr>\n",
       "      <th>top</th>\n",
       "      <td>The heart is normal in size. The mediastinum i...</td>\n",
       "    </tr>\n",
       "    <tr>\n",
       "      <th>freq</th>\n",
       "      <td>29</td>\n",
       "    </tr>\n",
       "  </tbody>\n",
       "</table>\n",
       "</div>"
      ],
      "text/plain": [
       "                                                   report\n",
       "count                                                2069\n",
       "unique                                               1728\n",
       "top     The heart is normal in size. The mediastinum i...\n",
       "freq                                                   29"
      ]
     },
     "execution_count": 47,
     "metadata": {},
     "output_type": "execute_result"
    }
   ],
   "source": [
    "df_reports.describe(include=\"object\")\n"
   ]
  },
  {
   "cell_type": "code",
   "execution_count": 46,
   "id": "863bc40c-60c7-4ded-892f-c2f1df3953c8",
   "metadata": {},
   "outputs": [
    {
     "data": {
      "text/html": [
       "<div>\n",
       "<style scoped>\n",
       "    .dataframe tbody tr th:only-of-type {\n",
       "        vertical-align: middle;\n",
       "    }\n",
       "\n",
       "    .dataframe tbody tr th {\n",
       "        vertical-align: top;\n",
       "    }\n",
       "\n",
       "    .dataframe thead th {\n",
       "        text-align: right;\n",
       "    }\n",
       "</style>\n",
       "<table border=\"1\" class=\"dataframe\">\n",
       "  <thead>\n",
       "    <tr style=\"text-align: right;\">\n",
       "      <th></th>\n",
       "      <th>length</th>\n",
       "    </tr>\n",
       "  </thead>\n",
       "  <tbody>\n",
       "    <tr>\n",
       "      <th>count</th>\n",
       "      <td>2069.000000</td>\n",
       "    </tr>\n",
       "    <tr>\n",
       "      <th>mean</th>\n",
       "      <td>222.014500</td>\n",
       "    </tr>\n",
       "    <tr>\n",
       "      <th>std</th>\n",
       "      <td>96.761191</td>\n",
       "    </tr>\n",
       "    <tr>\n",
       "      <th>min</th>\n",
       "      <td>33.000000</td>\n",
       "    </tr>\n",
       "    <tr>\n",
       "      <th>25%</th>\n",
       "      <td>154.000000</td>\n",
       "    </tr>\n",
       "    <tr>\n",
       "      <th>50%</th>\n",
       "      <td>208.000000</td>\n",
       "    </tr>\n",
       "    <tr>\n",
       "      <th>75%</th>\n",
       "      <td>272.000000</td>\n",
       "    </tr>\n",
       "    <tr>\n",
       "      <th>max</th>\n",
       "      <td>953.000000</td>\n",
       "    </tr>\n",
       "  </tbody>\n",
       "</table>\n",
       "</div>"
      ],
      "text/plain": [
       "            length\n",
       "count  2069.000000\n",
       "mean    222.014500\n",
       "std      96.761191\n",
       "min      33.000000\n",
       "25%     154.000000\n",
       "50%     208.000000\n",
       "75%     272.000000\n",
       "max     953.000000"
      ]
     },
     "execution_count": 46,
     "metadata": {},
     "output_type": "execute_result"
    }
   ],
   "source": [
    "df_reports.describe()"
   ]
  },
  {
   "cell_type": "code",
   "execution_count": 37,
   "id": "a6961525-75f8-4ced-b324-631fe2324516",
   "metadata": {},
   "outputs": [
    {
     "data": {
      "image/png": "[encoded data removed]",
      "text/plain": [
       "<Figure size 640x480 with 1 Axes>"
      ]
     },
     "metadata": {},
     "output_type": "display_data"
    }
   ],
   "source": [
    "# Afficher un histogramme des longueurs de rapport\n",
    "import matplotlib.pyplot as plt\n",
    "\n",
    "plt.hist(df_reports[\"length\"], bins=30, color='skyblue', edgecolor='black')\n",
    "plt.title('Distribution des longueurs des rapports')\n",
    "plt.xlabel('Longueur du rapport')\n",
    "plt.ylabel('Fréquence')\n",
    "plt.show()\n"
   ]
  },
  {
   "cell_type": "code",
   "execution_count": 52,
   "id": "552661f0-cbf5-4e80-ac1c-ecd3ff4abb45",
   "metadata": {},
   "outputs": [
    {
     "data": {
      "text/html": [
       "<div>\n",
       "<style scoped>\n",
       "    .dataframe tbody tr th:only-of-type {\n",
       "        vertical-align: middle;\n",
       "    }\n",
       "\n",
       "    .dataframe tbody tr th {\n",
       "        vertical-align: top;\n",
       "    }\n",
       "\n",
       "    .dataframe thead th {\n",
       "        text-align: right;\n",
       "    }\n",
       "</style>\n",
       "<table border=\"1\" class=\"dataframe\">\n",
       "  <thead>\n",
       "    <tr style=\"text-align: right;\">\n",
       "      <th></th>\n",
       "      <th>report</th>\n",
       "    </tr>\n",
       "  </thead>\n",
       "  <tbody>\n",
       "    <tr>\n",
       "      <th>count</th>\n",
       "      <td>1728</td>\n",
       "    </tr>\n",
       "    <tr>\n",
       "      <th>unique</th>\n",
       "      <td>1728</td>\n",
       "    </tr>\n",
       "    <tr>\n",
       "      <th>top</th>\n",
       "      <td>Normal heart size. Clear lungs. Degenerative t...</td>\n",
       "    </tr>\n",
       "    <tr>\n",
       "      <th>freq</th>\n",
       "      <td>1</td>\n",
       "    </tr>\n",
       "  </tbody>\n",
       "</table>\n",
       "</div>"
      ],
      "text/plain": [
       "                                                   report\n",
       "count                                                1728\n",
       "unique                                               1728\n",
       "top     Normal heart size. Clear lungs. Degenerative t...\n",
       "freq                                                    1"
      ]
     },
     "execution_count": 52,
     "metadata": {},
     "output_type": "execute_result"
    }
   ],
   "source": [
    "# Supprimer les doublons\n",
    "df_reports = df_reports.drop_duplicates()\n",
    "df_reports.describe(include=\"object\")"
   ]
  }
 ],
 "metadata": {
  "kernelspec": {
   "display_name": "Python 3 (ipykernel)",
   "language": "python",
   "name": "python3"
  },
  "language_info": {
   "codemirror_mode": {
    "name": "ipython",
    "version": 3
   },
   "file_extension": ".py",
   "mimetype": "text/x-python",
   "name": "python",
   "nbconvert_exporter": "python",
   "pygments_lexer": "ipython3",
   "version": "3.10.12"
  }
 },
 "nbformat": 4,
 "nbformat_minor": 5
}
